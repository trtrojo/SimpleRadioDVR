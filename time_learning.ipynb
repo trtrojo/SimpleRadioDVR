{
 "cells": [
  {
   "cell_type": "code",
   "execution_count": 50,
   "metadata": {},
   "outputs": [],
   "source": [
    "import datetime\n",
    "import time"
   ]
  },
  {
   "cell_type": "code",
   "execution_count": 51,
   "metadata": {},
   "outputs": [
    {
     "data": {
      "text/plain": [
       "datetime.datetime(2020, 3, 23, 1, 10, 46, 563768)"
      ]
     },
     "execution_count": 51,
     "metadata": {},
     "output_type": "execute_result"
    }
   ],
   "source": [
    "#start_time = datetime.datetime.now().strftime(\"%y%m%d-%H%M%S\")\n",
    "s = datetime.datetime.now()\n",
    "s"
   ]
  },
  {
   "cell_type": "code",
   "execution_count": 52,
   "metadata": {},
   "outputs": [
    {
     "data": {
      "text/plain": [
       "datetime.datetime(2020, 3, 23, 2, 0, 0, 563768)"
      ]
     },
     "execution_count": 52,
     "metadata": {},
     "output_type": "execute_result"
    }
   ],
   "source": [
    "s = s.replace(minute=0,second=0)\n",
    "s = s + datetime.timedelta(hours=1)\n",
    "s"
   ]
  },
  {
   "cell_type": "code",
   "execution_count": 57,
   "metadata": {},
   "outputs": [
    {
     "data": {
      "text/plain": [
       "datetime.datetime(2020, 3, 23, 1, 12)"
      ]
     },
     "execution_count": 57,
     "metadata": {},
     "output_type": "execute_result"
    }
   ],
   "source": [
    "    #start_time = datetime.datetime.now().strftime(\"%y%m%d-%H%M%S\")\n",
    "    t = datetime.datetime.now()\n",
    "    u = t\n",
    "    u = u.replace(second=0,microsecond=0)\n",
    "    u = u + datetime.timedelta(minutes=1)\n",
    "    u"
   ]
  },
  {
   "cell_type": "code",
   "execution_count": 58,
   "metadata": {},
   "outputs": [
    {
     "name": "stdout",
     "output_type": "stream",
     "text": [
      "2020-03-23 01:11:38.211508\n",
      "2020-03-23 01:12:00\n",
      "2020-03-23 01:11:39.212235\n",
      "2020-03-23 01:12:00\n",
      "2020-03-23 01:11:40.216678\n",
      "2020-03-23 01:12:00\n",
      "2020-03-23 01:11:41.218071\n",
      "2020-03-23 01:12:00\n",
      "2020-03-23 01:11:42.219084\n",
      "2020-03-23 01:12:00\n",
      "2020-03-23 01:11:43.220090\n",
      "2020-03-23 01:12:00\n",
      "2020-03-23 01:11:44.221805\n",
      "2020-03-23 01:12:00\n",
      "2020-03-23 01:11:45.223123\n",
      "2020-03-23 01:12:00\n",
      "2020-03-23 01:11:46.224094\n",
      "2020-03-23 01:12:00\n",
      "2020-03-23 01:11:47.225131\n",
      "2020-03-23 01:12:00\n",
      "2020-03-23 01:11:48.226131\n",
      "2020-03-23 01:12:00\n",
      "2020-03-23 01:11:49.227036\n",
      "2020-03-23 01:12:00\n",
      "2020-03-23 01:11:50.228140\n",
      "2020-03-23 01:12:00\n",
      "2020-03-23 01:11:51.229694\n",
      "2020-03-23 01:12:00\n",
      "2020-03-23 01:11:52.230059\n",
      "2020-03-23 01:12:00\n",
      "2020-03-23 01:11:53.231079\n",
      "2020-03-23 01:12:00\n",
      "2020-03-23 01:11:54.232082\n",
      "2020-03-23 01:12:00\n",
      "2020-03-23 01:11:55.233080\n",
      "2020-03-23 01:12:00\n",
      "2020-03-23 01:11:56.234195\n",
      "2020-03-23 01:12:00\n",
      "2020-03-23 01:11:57.235140\n",
      "2020-03-23 01:12:00\n",
      "2020-03-23 01:11:58.236521\n",
      "2020-03-23 01:12:00\n",
      "2020-03-23 01:11:59.237142\n",
      "2020-03-23 01:12:00\n",
      "out\n"
     ]
    }
   ],
   "source": [
    "while (datetime.datetime.now() <= u):\n",
    "    print(datetime.datetime.now())\n",
    "    print(u)\n",
    "    time.sleep(1)\n",
    "    \n",
    "print(\"out\")"
   ]
  },
  {
   "cell_type": "code",
   "execution_count": 60,
   "metadata": {},
   "outputs": [
    {
     "data": {
      "text/plain": [
       "datetime.datetime(2020, 3, 23, 3, 0)"
      ]
     },
     "execution_count": 60,
     "metadata": {},
     "output_type": "execute_result"
    }
   ],
   "source": [
    "start_time = datetime.datetime.now().strftime(\"%y%m%d-%H%M%S\")\n",
    "t = datetime.datetime.now()\n",
    "e = t.replace(minute=0,second=0,microsecond=0)\n",
    "e = e + datetime.timedelta(hours=1)\n",
    "e\n",
    "\n",
    "\n",
    "#u = t\n",
    "#u = u.replace(second=0,microsecond=0)\n",
    "#u = u + datetime.timedelta(minutes=1)\n",
    "#u"
   ]
  },
  {
   "cell_type": "code",
   "execution_count": null,
   "metadata": {},
   "outputs": [],
   "source": []
  }
 ],
 "metadata": {
  "kernelspec": {
   "display_name": "Python 3",
   "language": "python",
   "name": "python3"
  },
  "language_info": {
   "codemirror_mode": {
    "name": "ipython",
    "version": 3
   },
   "file_extension": ".py",
   "mimetype": "text/x-python",
   "name": "python",
   "nbconvert_exporter": "python",
   "pygments_lexer": "ipython3",
   "version": "3.7.6"
  }
 },
 "nbformat": 4,
 "nbformat_minor": 4
}
