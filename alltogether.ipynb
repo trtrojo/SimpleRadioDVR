{
 "cells": [
  {
   "cell_type": "code",
   "execution_count": 7,
   "metadata": {},
   "outputs": [],
   "source": [
    "import os\n",
    "import sys\n",
    "import datetime\n",
    "import time\n",
    "import subprocess\n",
    "import requests\n",
    "import threading"
   ]
  },
  {
   "cell_type": "code",
   "execution_count": 8,
   "metadata": {},
   "outputs": [],
   "source": [
    "class capture_worker:\n",
    "    def __init__(self):\n",
    "        self._running = True\n",
    "        \n",
    "    def terminate(self):\n",
    "        self._running = False\n",
    "        \n",
    "    def capture(self):\n",
    "        start_time = datetime.datetime.now()\n",
    "        #kill_time = start_time.replace(minute=0,second=0,microsecond=0)\n",
    "        #kill_time = kill_time + datetime.timedelta(hours=1)\n",
    "        doc = requests.get('http://10.0.0.44:8000/wnyc', stream=True)\n",
    "        with open(('./blah/' + 'wnyc-' + start_time.strftime(\"%y%m%d-%H%M%S\") + '.mp3'),'wb') as f:\n",
    "            for chunk in doc.iter_content(chunk_size=1024*36):\n",
    "                if chunk:\n",
    "                    f.write(chunk)\n",
    "                    f.flush()\n",
    "                    if (self._running == False): doc.close()\n",
    "        doc.close()\n",
    "        self.running= False"
   ]
  },
  {
   "cell_type": "code",
   "execution_count": 9,
   "metadata": {},
   "outputs": [],
   "source": [
    "#t = threading.Thread(target=capture_worker)\n",
    "#t.start()\n",
    "w = capture_worker()\n",
    "t = threading.Thread(target = w.capture) \n",
    "t.start() "
   ]
  },
  {
   "cell_type": "code",
   "execution_count": 10,
   "metadata": {},
   "outputs": [],
   "source": [
    "w.terminate()\n",
    "t.join()"
   ]
  },
  {
   "cell_type": "code",
   "execution_count": 5,
   "metadata": {},
   "outputs": [
    {
     "data": {
      "text/plain": [
       "<Thread(Thread-4, stopped 140185736025856)>"
      ]
     },
     "execution_count": 5,
     "metadata": {},
     "output_type": "execute_result"
    }
   ],
   "source": [
    "t"
   ]
  },
  {
   "cell_type": "code",
   "execution_count": 6,
   "metadata": {},
   "outputs": [
    {
     "data": {
      "text/plain": [
       "[<_MainThread(MainThread, started 140186156005056)>,\n",
       " <Thread(Thread-2, started daemon 140185786382080)>,\n",
       " <Heartbeat(Thread-3, started daemon 140185777989376)>,\n",
       " <HistorySavingThread(IPythonHistorySavingThread, started 140185752811264)>,\n",
       " <ParentPollerUnix(Thread-1, started daemon 140185744418560)>]"
      ]
     },
     "execution_count": 6,
     "metadata": {},
     "output_type": "execute_result"
    }
   ],
   "source": [
    "threading.enumerate()"
   ]
  },
  {
   "cell_type": "code",
   "execution_count": null,
   "metadata": {},
   "outputs": [],
   "source": []
  }
 ],
 "metadata": {
  "kernelspec": {
   "display_name": "Python 3",
   "language": "python",
   "name": "python3"
  },
  "language_info": {
   "codemirror_mode": {
    "name": "ipython",
    "version": 3
   },
   "file_extension": ".py",
   "mimetype": "text/x-python",
   "name": "python",
   "nbconvert_exporter": "python",
   "pygments_lexer": "ipython3",
   "version": "3.7.6"
  }
 },
 "nbformat": 4,
 "nbformat_minor": 4
}
