{
 "cells": [
  {
   "cell_type": "code",
   "execution_count": 5,
   "metadata": {},
   "outputs": [
    {
     "name": "stderr",
     "output_type": "stream",
     "text": [
      "/usr/local/lib/python3.7/site-packages/ipykernel_launcher.py:15: UserWarning: Size is set to 0. This should ONLY be done when there is no possible way to determine the media's size, like if the media is a stream.\n",
      "  from ipykernel import kernelapp as app\n"
     ]
    }
   ],
   "source": [
    "import podgen\n",
    "#from podgen import Podcast, Episode, Media\n",
    "# Create the Podcast\n",
    "p = podgen.Podcast(\n",
    "   name=\"Animals Alphabetically\",\n",
    "   description=\"Every Tuesday, biologist John Doe and wildlife \"\n",
    "               \"photographer Foo Bar introduce you to a new animal.\",\n",
    "   website=\"http://example.org/animals-alphabetically\",\n",
    "   explicit=False,\n",
    ")\n",
    "# Add some episodes\n",
    "p.episodes += [\n",
    "   podgen.Episode(\n",
    "     title=\"Aardvark\",\n",
    "     media=podgen.Media(\"http://example.org/files/aardvark.mp3\"),\n",
    "     summary=\"With an English name adapted directly from Afrikaans \"\n",
    "             '-- literally meaning \"earth pig\" -- this fascinating '\n",
    "             \"animal has both circular teeth and a knack for \"\n",
    "             \"digging.\",\n",
    "   ),\n",
    "   podgen.Episode(\n",
    "      title=\"Alpaca\",\n",
    "      media=podgen.Media(\"http://example.org/files/alpaca.mp3\", 15363464),\n",
    "      summary=\"Thousands of years ago, alpacas were already \"\n",
    "              \"domesticated and bred to produce the best fibers. \"\n",
    "              \"Case in point: we have found clothing made from \"\n",
    "              \"alpaca fiber that is 2000 years old. How is this \"\n",
    "              \"possible, and what makes it different from llamas?\",\n",
    "   ),\n",
    "]\n",
    "# Generate the RSS feed\n",
    "rss = p.rss_str()"
   ]
  },
  {
   "cell_type": "code",
   "execution_count": 4,
   "metadata": {},
   "outputs": [
    {
     "data": {
      "text/plain": [
       "'<?xml version=\\'1.0\\' encoding=\\'UTF-8\\'?>\\n<rss xmlns:atom=\"http://www.w3.org/2005/Atom\" xmlns:content=\"http://purl.org/rss/1.0/modules/content/\" xmlns:itunes=\"http://www.itunes.com/dtds/podcast-1.0.dtd\" xmlns:dc=\"http://purl.org/dc/elements/1.1/\" version=\"2.0\">\\n  <channel>\\n    <title>Animals Alphabetically</title>\\n    <link>http://example.org/animals-alphabetically</link>\\n    <description>Every Tuesday, biologist John Doe and wildlife photographer Foo Bar introduce you to a new animal.</description>\\n    <itunes:explicit>no</itunes:explicit>\\n    <docs>http://www.rssboard.org/rss-specification</docs>\\n    <generator>python-podgen v1.1.0 https://podgen.readthedocs.org</generator>\\n    <lastBuildDate>Mon, 23 Mar 2020 07:26:34 +0000</lastBuildDate>\\n    <item>\\n      <title>Aardvark</title>\\n      <description><![CDATA[With an English name adapted directly from Afrikaans -- literally meaning \"earth pig\" -- this fascinating animal has both circular teeth and a knack for digging.]]></description>\\n      <guid isPermaLink=\"false\">http://example.org/files/aardvark.mp3</guid>\\n      <enclosure url=\"http://example.org/files/aardvark.mp3\" length=\"11932295\" type=\"audio/mpeg\"/>\\n    </item>\\n    <item>\\n      <title>Alpaca</title>\\n      <description><![CDATA[Thousands of years ago, alpacas were already domesticated and bred to produce the best fibers. Case in point: we have found clothing made from alpaca fiber that is 2000 years old. How is this possible, and what makes it different from llamas?]]></description>\\n      <guid isPermaLink=\"false\">http://example.org/files/alpaca.mp3</guid>\\n      <enclosure url=\"http://example.org/files/alpaca.mp3\" length=\"15363464\" type=\"audio/mpeg\"/>\\n    </item>\\n  </channel>\\n</rss>\\n'"
      ]
     },
     "execution_count": 4,
     "metadata": {},
     "output_type": "execute_result"
    }
   ],
   "source": [
    "rss"
   ]
  },
  {
   "cell_type": "code",
   "execution_count": null,
   "metadata": {},
   "outputs": [],
   "source": []
  },
  {
   "cell_type": "code",
   "execution_count": null,
   "metadata": {},
   "outputs": [],
   "source": []
  }
 ],
 "metadata": {
  "kernelspec": {
   "display_name": "Python 3",
   "language": "python",
   "name": "python3"
  },
  "language_info": {
   "codemirror_mode": {
    "name": "ipython",
    "version": 3
   },
   "file_extension": ".py",
   "mimetype": "text/x-python",
   "name": "python",
   "nbconvert_exporter": "python",
   "pygments_lexer": "ipython3",
   "version": "3.7.6"
  }
 },
 "nbformat": 4,
 "nbformat_minor": 4
}
