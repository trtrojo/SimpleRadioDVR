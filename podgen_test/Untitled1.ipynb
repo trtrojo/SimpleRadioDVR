{
 "cells": [
  {
   "cell_type": "code",
   "execution_count": 3,
   "metadata": {},
   "outputs": [],
   "source": [
    "import datetime\n",
    "import time\n",
    "import os\n",
    "import podgen as pg"
   ]
  },
  {
   "cell_type": "code",
   "execution_count": 5,
   "metadata": {},
   "outputs": [
    {
     "name": "stdout",
     "output_type": "stream",
     "text": [
      "['wnyc-200323-025437.mp3', 'wnyc-200323-025528.mp3', 'wnyc-200323-025056.mp3']\n"
     ]
    },
    {
     "name": "stderr",
     "output_type": "stream",
     "text": [
      "/usr/local/lib/python3.7/site-packages/ipykernel_launcher.py:14: UserWarning: Size is set to 0. This should ONLY be done when there is no possible way to determine the media's size, like if the media is a stream.\n",
      "  \n"
     ]
    }
   ],
   "source": [
    "arr_txt = [x for x in os.listdir() if x.endswith(\".mp3\")]\n",
    "print(arr_txt)\n",
    "\n",
    "p = pg.Podcast(\n",
    "   name=\"Bootleg WNYC\",\n",
    "   description=\"WNYC Bootleg stream\",\n",
    "   website=\"http://local.rew0rk.net/\",\n",
    "   explicit=False,\n",
    ")\n",
    "# Add some episodes\n",
    "p.episodes += [\n",
    "   pg.Episode(\n",
    "     title=\"Aardvark\",\n",
    "     media=pg.Media(\"http://example.org/files/aardvark.mp3\"),\n",
    "     summary=\"With an English name adapted directly from Afrikaans \"\n",
    "             '-- literally meaning \"earth pig\" -- this fascinating '\n",
    "             \"animal has both circular teeth and a knack for \"\n",
    "             \"digging.\",\n",
    "   ),\n",
    "   pg.Episode(\n",
    "      title=\"Alpaca\",\n",
    "      media=pg.Media(\"http://example.org/files/alpaca.mp3\", 15363464),\n",
    "      summary=\"Thousands of years ago, alpacas were already \"\n",
    "              \"domesticated and bred to produce the best fibers. \"\n",
    "              \"Case in point: we have found clothing made from \"\n",
    "              \"alpaca fiber that is 2000 years old. How is this \"\n",
    "              \"possible, and what makes it different from llamas?\",\n",
    "   ),\n",
    "]\n",
    "# Generate the RSS feed\n",
    "rss = p.rss_str()"
   ]
  },
  {
   "cell_type": "code",
   "execution_count": null,
   "metadata": {},
   "outputs": [],
   "source": []
  }
 ],
 "metadata": {
  "kernelspec": {
   "display_name": "Python 3",
   "language": "python",
   "name": "python3"
  },
  "language_info": {
   "codemirror_mode": {
    "name": "ipython",
    "version": 3
   },
   "file_extension": ".py",
   "mimetype": "text/x-python",
   "name": "python",
   "nbconvert_exporter": "python",
   "pygments_lexer": "ipython3",
   "version": "3.7.6"
  }
 },
 "nbformat": 4,
 "nbformat_minor": 4
}
